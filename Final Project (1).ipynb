{
 "cells": [
  {
   "cell_type": "markdown",
   "metadata": {},
   "source": [
    "# Final Project: Netflix Movies/TV Shows Analysis"
   ]
  },
  {
   "cell_type": "markdown",
   "metadata": {},
   "source": [
    "### Import libraries "
   ]
  },
  {
   "cell_type": "code",
   "execution_count": 1,
   "metadata": {},
   "outputs": [],
   "source": [
    "import pandas as pd\n",
    "import re\n",
    "from matplotlib import pyplot as plt "
   ]
  },
  {
   "cell_type": "markdown",
   "metadata": {},
   "source": [
    "### Read files into notebook"
   ]
  },
  {
   "cell_type": "markdown",
   "metadata": {},
   "source": [
    "#### I have chosen these two csv files because they contain different information on the same Netflix movies/tv shows that I thought would be interesting to analyze. The netflix_titles.csv file contains information about the title, director, duration, etc. while the Netflix Shows.csv file contains information regarding Netflix user scores which will be the foundation for this analysis. "
   ]
  },
  {
   "cell_type": "code",
   "execution_count": 2,
   "metadata": {},
   "outputs": [],
   "source": [
    "ntitles = pd.read_csv('netflix_titles.csv')\n",
    "ratings = pd.read_csv('Netflix Shows.csv')"
   ]
  },
  {
   "cell_type": "markdown",
   "metadata": {},
   "source": [
    "## netflix_titles.csv set up"
   ]
  },
  {
   "cell_type": "markdown",
   "metadata": {},
   "source": [
    "#### I chose to first understand the data types, column names, and column counts to discern which columns will be useful to me for my analysis. By doing so, I am able to narrow down my focus to only the columns and data that I require to answer my questions."
   ]
  },
  {
   "cell_type": "markdown",
   "metadata": {},
   "source": [
    "### Find useful information on datatypes and column names of netflix_titles.csv"
   ]
  },
  {
   "cell_type": "code",
   "execution_count": 3,
   "metadata": {},
   "outputs": [
    {
     "name": "stdout",
     "output_type": "stream",
     "text": [
      "<class 'pandas.core.frame.DataFrame'>\n",
      "RangeIndex: 7787 entries, 0 to 7786\n",
      "Data columns (total 12 columns):\n",
      " #   Column        Non-Null Count  Dtype \n",
      "---  ------        --------------  ----- \n",
      " 0   show_id       7787 non-null   object\n",
      " 1   type          7787 non-null   object\n",
      " 2   title         7787 non-null   object\n",
      " 3   director      5398 non-null   object\n",
      " 4   cast          7069 non-null   object\n",
      " 5   country       7280 non-null   object\n",
      " 6   date_added    7777 non-null   object\n",
      " 7   release_year  7787 non-null   int64 \n",
      " 8   rating        7780 non-null   object\n",
      " 9   duration      7787 non-null   object\n",
      " 10  listed_in     7787 non-null   object\n",
      " 11  description   7787 non-null   object\n",
      "dtypes: int64(1), object(11)\n",
      "memory usage: 730.2+ KB\n"
     ]
    }
   ],
   "source": [
    "ntitles.info()"
   ]
  },
  {
   "cell_type": "markdown",
   "metadata": {},
   "source": [
    "### Select only the columns that are useful to my analysis using a filter and applying it"
   ]
  },
  {
   "cell_type": "code",
   "execution_count": 4,
   "metadata": {},
   "outputs": [],
   "source": [
    "ntitles = ntitles[['type','title','director','release_year','rating','duration']]"
   ]
  },
  {
   "cell_type": "markdown",
   "metadata": {},
   "source": [
    "### Created a list of all the columns of interest, then made a for loop to find any columns with NaN values that need to be dropped"
   ]
  },
  {
   "cell_type": "code",
   "execution_count": 5,
   "metadata": {},
   "outputs": [
    {
     "name": "stdout",
     "output_type": "stream",
     "text": [
      "False\n",
      "False\n",
      "True\n",
      "False\n",
      "True\n",
      "False\n"
     ]
    }
   ],
   "source": [
    "clist = ['type','title','director','release_year','rating','duration']\n",
    "for n in clist:\n",
    "    print(ntitles[n].isnull().values.any())"
   ]
  },
  {
   "cell_type": "code",
   "execution_count": 6,
   "metadata": {},
   "outputs": [
    {
     "name": "stdout",
     "output_type": "stream",
     "text": [
      "False\n",
      "False\n",
      "False\n",
      "False\n",
      "False\n",
      "False\n"
     ]
    }
   ],
   "source": [
    "ntitles = ntitles.dropna(subset=['director','rating'])\n",
    "for n in clist:\n",
    "    print(ntitles[n].isnull().values.any())"
   ]
  },
  {
   "cell_type": "markdown",
   "metadata": {},
   "source": [
    "## Netflix Shows.csv set up"
   ]
  },
  {
   "cell_type": "markdown",
   "metadata": {},
   "source": [
    "### I will mainly be looking at the 'user rating score' column for my analysis."
   ]
  },
  {
   "cell_type": "code",
   "execution_count": 7,
   "metadata": {},
   "outputs": [
    {
     "name": "stdout",
     "output_type": "stream",
     "text": [
      "<class 'pandas.core.frame.DataFrame'>\n",
      "RangeIndex: 1000 entries, 0 to 999\n",
      "Data columns (total 7 columns):\n",
      " #   Column             Non-Null Count  Dtype  \n",
      "---  ------             --------------  -----  \n",
      " 0   title              1000 non-null   object \n",
      " 1   rating             1000 non-null   object \n",
      " 2   ratingLevel        941 non-null    object \n",
      " 3   ratingDescription  1000 non-null   int64  \n",
      " 4   release year       1000 non-null   int64  \n",
      " 5   user rating score  605 non-null    float64\n",
      " 6   user rating size   1000 non-null   int64  \n",
      "dtypes: float64(1), int64(3), object(3)\n",
      "memory usage: 54.8+ KB\n"
     ]
    }
   ],
   "source": [
    "ratings.info()"
   ]
  },
  {
   "cell_type": "code",
   "execution_count": 8,
   "metadata": {},
   "outputs": [],
   "source": [
    "ratings = ratings[['title','rating','release year','user rating score']]"
   ]
  },
  {
   "cell_type": "code",
   "execution_count": 9,
   "metadata": {},
   "outputs": [
    {
     "name": "stdout",
     "output_type": "stream",
     "text": [
      "False\n",
      "False\n",
      "False\n",
      "True\n"
     ]
    }
   ],
   "source": [
    "clist = ['title','rating','release year','user rating score']\n",
    "for n in clist:\n",
    "    print(ratings[n].isnull().values.any())"
   ]
  },
  {
   "cell_type": "code",
   "execution_count": 10,
   "metadata": {},
   "outputs": [
    {
     "name": "stdout",
     "output_type": "stream",
     "text": [
      "False\n",
      "False\n",
      "False\n",
      "False\n"
     ]
    }
   ],
   "source": [
    "ratings = ratings.dropna(subset=['user rating score'])\n",
    "for n in clist:\n",
    "    print(ratings[n].isnull().values.any())"
   ]
  },
  {
   "cell_type": "markdown",
   "metadata": {},
   "source": [
    "### Cleaning movie title names by removing any unnecessary characters"
   ]
  },
  {
   "cell_type": "markdown",
   "metadata": {},
   "source": [
    "#### This is important because movie names and tv show names could be labeled differently across the two files, so by creating a primary key in which they have exact matches via title will allow me to join the two dataframes into one dataframe."
   ]
  },
  {
   "cell_type": "code",
   "execution_count": 11,
   "metadata": {},
   "outputs": [],
   "source": [
    "def get_prim_key(title):\n",
    "    tt = title\n",
    "    exclude = set(u\"!\\\"#$%'()*+,./:;<=>?@[\\\\/]^_`{|}~'\")\n",
    "    tt = u''.join(ch for ch in tt if ch not in exclude)\n",
    "    tt = tt.replace(u'-',u' ')\n",
    "    tt = tt.replace(u'&',u'and')\n",
    "    tt = tt.replace(u' in 3d',u'')\n",
    "    tt = tt.replace(u' 3d',u'')\n",
    "    tt = tt.replace(u' in 3D',u'')\n",
    "    tt = tt.replace(u' 3D',u'')\n",
    "    tt = tt.strip()\n",
    "    tt = re.sub(u' +',u' ',tt).lower()\n",
    "    return tt"
   ]
  },
  {
   "cell_type": "markdown",
   "metadata": {},
   "source": [
    "### Applying the function to both dataframes and creating 'primkey' column as a primary key for join"
   ]
  },
  {
   "cell_type": "code",
   "execution_count": 12,
   "metadata": {},
   "outputs": [],
   "source": [
    "ntitles['primkey'] = ntitles.apply(lambda row: get_prim_key(row['title']),axis=1)\n",
    "ratings['primkey'] = ratings.apply(lambda row: get_prim_key(row['title']),axis=1)"
   ]
  },
  {
   "cell_type": "markdown",
   "metadata": {},
   "source": [
    "### Created 'merged' dataframe to create a single datafram between both ratings and ntitles dataframes. The reason why I used inner join is so that I do not have any Nan in my output"
   ]
  },
  {
   "cell_type": "code",
   "execution_count": 13,
   "metadata": {},
   "outputs": [],
   "source": [
    "merged = pd.merge(ratings,ntitles, how='inner',on='primkey')"
   ]
  },
  {
   "cell_type": "code",
   "execution_count": 14,
   "metadata": {},
   "outputs": [
    {
     "data": {
      "text/plain": [
       "pandas.core.frame.DataFrame"
      ]
     },
     "execution_count": 14,
     "metadata": {},
     "output_type": "execute_result"
    }
   ],
   "source": [
    "type(merged)"
   ]
  },
  {
   "cell_type": "markdown",
   "metadata": {},
   "source": [
    "### We are left with 70 total rows after the join."
   ]
  },
  {
   "cell_type": "code",
   "execution_count": 15,
   "metadata": {},
   "outputs": [
    {
     "name": "stdout",
     "output_type": "stream",
     "text": [
      "<class 'pandas.core.frame.DataFrame'>\n",
      "Int64Index: 70 entries, 0 to 69\n",
      "Data columns (total 11 columns):\n",
      " #   Column             Non-Null Count  Dtype  \n",
      "---  ------             --------------  -----  \n",
      " 0   title_x            70 non-null     object \n",
      " 1   rating_x           70 non-null     object \n",
      " 2   release year       70 non-null     int64  \n",
      " 3   user rating score  70 non-null     float64\n",
      " 4   primkey            70 non-null     object \n",
      " 5   type               70 non-null     object \n",
      " 6   title_y            70 non-null     object \n",
      " 7   director           70 non-null     object \n",
      " 8   release_year       70 non-null     int64  \n",
      " 9   rating_y           70 non-null     object \n",
      " 10  duration           70 non-null     object \n",
      "dtypes: float64(1), int64(2), object(8)\n",
      "memory usage: 6.6+ KB\n"
     ]
    }
   ],
   "source": [
    "merged.info()"
   ]
  },
  {
   "cell_type": "code",
   "execution_count": 16,
   "metadata": {},
   "outputs": [
    {
     "data": {
      "text/html": [
       "<div>\n",
       "<style scoped>\n",
       "    .dataframe tbody tr th:only-of-type {\n",
       "        vertical-align: middle;\n",
       "    }\n",
       "\n",
       "    .dataframe tbody tr th {\n",
       "        vertical-align: top;\n",
       "    }\n",
       "\n",
       "    .dataframe thead th {\n",
       "        text-align: right;\n",
       "    }\n",
       "</style>\n",
       "<table border=\"1\" class=\"dataframe\">\n",
       "  <thead>\n",
       "    <tr style=\"text-align: right;\">\n",
       "      <th></th>\n",
       "      <th>title_x</th>\n",
       "      <th>rating_x</th>\n",
       "      <th>release year</th>\n",
       "      <th>user rating score</th>\n",
       "      <th>primkey</th>\n",
       "      <th>type</th>\n",
       "      <th>title_y</th>\n",
       "      <th>director</th>\n",
       "      <th>release_year</th>\n",
       "      <th>rating_y</th>\n",
       "      <th>duration</th>\n",
       "    </tr>\n",
       "  </thead>\n",
       "  <tbody>\n",
       "    <tr>\n",
       "      <th>0</th>\n",
       "      <td>Supernatural</td>\n",
       "      <td>TV-14</td>\n",
       "      <td>2016</td>\n",
       "      <td>95.0</td>\n",
       "      <td>supernatural</td>\n",
       "      <td>TV Show</td>\n",
       "      <td>Supernatural</td>\n",
       "      <td>Phil Sgriccia</td>\n",
       "      <td>2019</td>\n",
       "      <td>TV-14</td>\n",
       "      <td>15 Seasons</td>\n",
       "    </tr>\n",
       "    <tr>\n",
       "      <th>1</th>\n",
       "      <td>Supernatural</td>\n",
       "      <td>TV-14</td>\n",
       "      <td>2016</td>\n",
       "      <td>95.0</td>\n",
       "      <td>supernatural</td>\n",
       "      <td>TV Show</td>\n",
       "      <td>Supernatural</td>\n",
       "      <td>Phil Sgriccia</td>\n",
       "      <td>2019</td>\n",
       "      <td>TV-14</td>\n",
       "      <td>15 Seasons</td>\n",
       "    </tr>\n",
       "    <tr>\n",
       "      <th>2</th>\n",
       "      <td>Supernatural</td>\n",
       "      <td>TV-14</td>\n",
       "      <td>2016</td>\n",
       "      <td>95.0</td>\n",
       "      <td>supernatural</td>\n",
       "      <td>TV Show</td>\n",
       "      <td>Supernatural</td>\n",
       "      <td>Phil Sgriccia</td>\n",
       "      <td>2019</td>\n",
       "      <td>TV-14</td>\n",
       "      <td>15 Seasons</td>\n",
       "    </tr>\n",
       "    <tr>\n",
       "      <th>3</th>\n",
       "      <td>Death Note</td>\n",
       "      <td>TV-14</td>\n",
       "      <td>2006</td>\n",
       "      <td>77.0</td>\n",
       "      <td>death note</td>\n",
       "      <td>Movie</td>\n",
       "      <td>Death Note</td>\n",
       "      <td>Adam Wingard</td>\n",
       "      <td>2017</td>\n",
       "      <td>TV-MA</td>\n",
       "      <td>100 min</td>\n",
       "    </tr>\n",
       "    <tr>\n",
       "      <th>4</th>\n",
       "      <td>Naruto</td>\n",
       "      <td>TV-PG</td>\n",
       "      <td>2008</td>\n",
       "      <td>88.0</td>\n",
       "      <td>naruto</td>\n",
       "      <td>TV Show</td>\n",
       "      <td>Naruto</td>\n",
       "      <td>Hayato Date</td>\n",
       "      <td>2006</td>\n",
       "      <td>TV-14</td>\n",
       "      <td>9 Seasons</td>\n",
       "    </tr>\n",
       "  </tbody>\n",
       "</table>\n",
       "</div>"
      ],
      "text/plain": [
       "        title_x rating_x  release year  user rating score       primkey  \\\n",
       "0  Supernatural    TV-14          2016               95.0  supernatural   \n",
       "1  Supernatural    TV-14          2016               95.0  supernatural   \n",
       "2  Supernatural    TV-14          2016               95.0  supernatural   \n",
       "3    Death Note    TV-14          2006               77.0    death note   \n",
       "4        Naruto    TV-PG          2008               88.0        naruto   \n",
       "\n",
       "      type       title_y       director  release_year rating_y    duration  \n",
       "0  TV Show  Supernatural  Phil Sgriccia          2019    TV-14  15 Seasons  \n",
       "1  TV Show  Supernatural  Phil Sgriccia          2019    TV-14  15 Seasons  \n",
       "2  TV Show  Supernatural  Phil Sgriccia          2019    TV-14  15 Seasons  \n",
       "3    Movie    Death Note   Adam Wingard          2017    TV-MA     100 min  \n",
       "4  TV Show        Naruto    Hayato Date          2006    TV-14   9 Seasons  "
      ]
     },
     "execution_count": 16,
     "metadata": {},
     "output_type": "execute_result"
    }
   ],
   "source": [
    "merged.head()"
   ]
  },
  {
   "cell_type": "markdown",
   "metadata": {},
   "source": [
    "### Noticed there were some duplicates so I dropped them"
   ]
  },
  {
   "cell_type": "code",
   "execution_count": 17,
   "metadata": {},
   "outputs": [
    {
     "data": {
      "text/html": [
       "<div>\n",
       "<style scoped>\n",
       "    .dataframe tbody tr th:only-of-type {\n",
       "        vertical-align: middle;\n",
       "    }\n",
       "\n",
       "    .dataframe tbody tr th {\n",
       "        vertical-align: top;\n",
       "    }\n",
       "\n",
       "    .dataframe thead th {\n",
       "        text-align: right;\n",
       "    }\n",
       "</style>\n",
       "<table border=\"1\" class=\"dataframe\">\n",
       "  <thead>\n",
       "    <tr style=\"text-align: right;\">\n",
       "      <th></th>\n",
       "      <th>title_x</th>\n",
       "      <th>rating_x</th>\n",
       "      <th>release year</th>\n",
       "      <th>user rating score</th>\n",
       "      <th>primkey</th>\n",
       "      <th>type</th>\n",
       "      <th>title_y</th>\n",
       "      <th>director</th>\n",
       "      <th>release_year</th>\n",
       "      <th>rating_y</th>\n",
       "      <th>duration</th>\n",
       "    </tr>\n",
       "  </thead>\n",
       "  <tbody>\n",
       "    <tr>\n",
       "      <th>0</th>\n",
       "      <td>Supernatural</td>\n",
       "      <td>TV-14</td>\n",
       "      <td>2016</td>\n",
       "      <td>95.0</td>\n",
       "      <td>supernatural</td>\n",
       "      <td>TV Show</td>\n",
       "      <td>Supernatural</td>\n",
       "      <td>Phil Sgriccia</td>\n",
       "      <td>2019</td>\n",
       "      <td>TV-14</td>\n",
       "      <td>15 Seasons</td>\n",
       "    </tr>\n",
       "    <tr>\n",
       "      <th>3</th>\n",
       "      <td>Death Note</td>\n",
       "      <td>TV-14</td>\n",
       "      <td>2006</td>\n",
       "      <td>77.0</td>\n",
       "      <td>death note</td>\n",
       "      <td>Movie</td>\n",
       "      <td>Death Note</td>\n",
       "      <td>Adam Wingard</td>\n",
       "      <td>2017</td>\n",
       "      <td>TV-MA</td>\n",
       "      <td>100 min</td>\n",
       "    </tr>\n",
       "    <tr>\n",
       "      <th>4</th>\n",
       "      <td>Naruto</td>\n",
       "      <td>TV-PG</td>\n",
       "      <td>2008</td>\n",
       "      <td>88.0</td>\n",
       "      <td>naruto</td>\n",
       "      <td>TV Show</td>\n",
       "      <td>Naruto</td>\n",
       "      <td>Hayato Date</td>\n",
       "      <td>2006</td>\n",
       "      <td>TV-14</td>\n",
       "      <td>9 Seasons</td>\n",
       "    </tr>\n",
       "    <tr>\n",
       "      <th>5</th>\n",
       "      <td>Arrow</td>\n",
       "      <td>TV-14</td>\n",
       "      <td>2015</td>\n",
       "      <td>96.0</td>\n",
       "      <td>arrow</td>\n",
       "      <td>TV Show</td>\n",
       "      <td>Arrow</td>\n",
       "      <td>James Bamford</td>\n",
       "      <td>2019</td>\n",
       "      <td>TV-14</td>\n",
       "      <td>8 Seasons</td>\n",
       "    </tr>\n",
       "    <tr>\n",
       "      <th>7</th>\n",
       "      <td>The Flash</td>\n",
       "      <td>TV-PG</td>\n",
       "      <td>2016</td>\n",
       "      <td>98.0</td>\n",
       "      <td>the flash</td>\n",
       "      <td>TV Show</td>\n",
       "      <td>The Flash</td>\n",
       "      <td>Glen Winter</td>\n",
       "      <td>2019</td>\n",
       "      <td>TV-14</td>\n",
       "      <td>6 Seasons</td>\n",
       "    </tr>\n",
       "    <tr>\n",
       "      <th>9</th>\n",
       "      <td>The Do-Over</td>\n",
       "      <td>TV-MA</td>\n",
       "      <td>2016</td>\n",
       "      <td>84.0</td>\n",
       "      <td>the do over</td>\n",
       "      <td>Movie</td>\n",
       "      <td>The Do-Over</td>\n",
       "      <td>Steven Brill</td>\n",
       "      <td>2016</td>\n",
       "      <td>TV-MA</td>\n",
       "      <td>109 min</td>\n",
       "    </tr>\n",
       "    <tr>\n",
       "      <th>10</th>\n",
       "      <td>Sand Castle</td>\n",
       "      <td>TV-MA</td>\n",
       "      <td>2017</td>\n",
       "      <td>89.0</td>\n",
       "      <td>sand castle</td>\n",
       "      <td>Movie</td>\n",
       "      <td>Sand Castle</td>\n",
       "      <td>Fernando Coimbra</td>\n",
       "      <td>2017</td>\n",
       "      <td>TV-MA</td>\n",
       "      <td>113 min</td>\n",
       "    </tr>\n",
       "    <tr>\n",
       "      <th>12</th>\n",
       "      <td>Sandy Wexler</td>\n",
       "      <td>TV-14</td>\n",
       "      <td>2017</td>\n",
       "      <td>92.0</td>\n",
       "      <td>sandy wexler</td>\n",
       "      <td>Movie</td>\n",
       "      <td>Sandy Wexler</td>\n",
       "      <td>Steven Brill</td>\n",
       "      <td>2017</td>\n",
       "      <td>TV-14</td>\n",
       "      <td>131 min</td>\n",
       "    </tr>\n",
       "    <tr>\n",
       "      <th>16</th>\n",
       "      <td>Kevin Hart: What Now?</td>\n",
       "      <td>R</td>\n",
       "      <td>2016</td>\n",
       "      <td>97.0</td>\n",
       "      <td>kevin hart what now</td>\n",
       "      <td>Movie</td>\n",
       "      <td>Kevin Hart: What Now?</td>\n",
       "      <td>Leslie Small</td>\n",
       "      <td>2016</td>\n",
       "      <td>R</td>\n",
       "      <td>96 min</td>\n",
       "    </tr>\n",
       "    <tr>\n",
       "      <th>17</th>\n",
       "      <td>The Great British Baking Show</td>\n",
       "      <td>TV-PG</td>\n",
       "      <td>2016</td>\n",
       "      <td>94.0</td>\n",
       "      <td>the great british baking show</td>\n",
       "      <td>TV Show</td>\n",
       "      <td>The Great British Baking Show</td>\n",
       "      <td>Andy Devonshire</td>\n",
       "      <td>2020</td>\n",
       "      <td>TV-14</td>\n",
       "      <td>8 Seasons</td>\n",
       "    </tr>\n",
       "    <tr>\n",
       "      <th>21</th>\n",
       "      <td>Dave Chappelle</td>\n",
       "      <td>TV-MA</td>\n",
       "      <td>2017</td>\n",
       "      <td>94.0</td>\n",
       "      <td>dave chappelle</td>\n",
       "      <td>TV Show</td>\n",
       "      <td>Dave Chappelle</td>\n",
       "      <td>Stan Lathan</td>\n",
       "      <td>2017</td>\n",
       "      <td>TV-MA</td>\n",
       "      <td>1 Season</td>\n",
       "    </tr>\n",
       "    <tr>\n",
       "      <th>24</th>\n",
       "      <td>Little Boxes</td>\n",
       "      <td>TV-14</td>\n",
       "      <td>2016</td>\n",
       "      <td>61.0</td>\n",
       "      <td>little boxes</td>\n",
       "      <td>Movie</td>\n",
       "      <td>Little Boxes</td>\n",
       "      <td>Rob Meyer</td>\n",
       "      <td>2016</td>\n",
       "      <td>TV-MA</td>\n",
       "      <td>89 min</td>\n",
       "    </tr>\n",
       "    <tr>\n",
       "      <th>25</th>\n",
       "      <td>The Waterboy</td>\n",
       "      <td>PG-13</td>\n",
       "      <td>1998</td>\n",
       "      <td>82.0</td>\n",
       "      <td>the waterboy</td>\n",
       "      <td>Movie</td>\n",
       "      <td>The Waterboy</td>\n",
       "      <td>Frank Coraci</td>\n",
       "      <td>1998</td>\n",
       "      <td>PG-13</td>\n",
       "      <td>90 min</td>\n",
       "    </tr>\n",
       "    <tr>\n",
       "      <th>27</th>\n",
       "      <td>Grease</td>\n",
       "      <td>PG</td>\n",
       "      <td>1978</td>\n",
       "      <td>86.0</td>\n",
       "      <td>grease</td>\n",
       "      <td>Movie</td>\n",
       "      <td>Grease</td>\n",
       "      <td>Randal Kleiser</td>\n",
       "      <td>1978</td>\n",
       "      <td>PG</td>\n",
       "      <td>110 min</td>\n",
       "    </tr>\n",
       "    <tr>\n",
       "      <th>29</th>\n",
       "      <td>Coraline</td>\n",
       "      <td>PG</td>\n",
       "      <td>2009</td>\n",
       "      <td>95.0</td>\n",
       "      <td>coraline</td>\n",
       "      <td>Movie</td>\n",
       "      <td>Coraline</td>\n",
       "      <td>Henry Selick</td>\n",
       "      <td>2009</td>\n",
       "      <td>PG</td>\n",
       "      <td>101 min</td>\n",
       "    </tr>\n",
       "    <tr>\n",
       "      <th>33</th>\n",
       "      <td>Blow</td>\n",
       "      <td>R</td>\n",
       "      <td>2001</td>\n",
       "      <td>78.0</td>\n",
       "      <td>blow</td>\n",
       "      <td>Movie</td>\n",
       "      <td>Blow</td>\n",
       "      <td>Ted Demme</td>\n",
       "      <td>2001</td>\n",
       "      <td>R</td>\n",
       "      <td>123 min</td>\n",
       "    </tr>\n",
       "    <tr>\n",
       "      <th>34</th>\n",
       "      <td>Gotham</td>\n",
       "      <td>TV-14</td>\n",
       "      <td>2016</td>\n",
       "      <td>85.0</td>\n",
       "      <td>gotham</td>\n",
       "      <td>TV Show</td>\n",
       "      <td>Gotham</td>\n",
       "      <td>Danny Cannon</td>\n",
       "      <td>2019</td>\n",
       "      <td>TV-MA</td>\n",
       "      <td>5 Seasons</td>\n",
       "    </tr>\n",
       "    <tr>\n",
       "      <th>35</th>\n",
       "      <td>Limitless</td>\n",
       "      <td>TV-14</td>\n",
       "      <td>2016</td>\n",
       "      <td>84.0</td>\n",
       "      <td>limitless</td>\n",
       "      <td>Movie</td>\n",
       "      <td>Limitless</td>\n",
       "      <td>Vrinda Samartha</td>\n",
       "      <td>2017</td>\n",
       "      <td>TV-PG</td>\n",
       "      <td>59 min</td>\n",
       "    </tr>\n",
       "    <tr>\n",
       "      <th>37</th>\n",
       "      <td>Chicken Little</td>\n",
       "      <td>G</td>\n",
       "      <td>2005</td>\n",
       "      <td>92.0</td>\n",
       "      <td>chicken little</td>\n",
       "      <td>Movie</td>\n",
       "      <td>Chicken Little</td>\n",
       "      <td>Mark Dindal</td>\n",
       "      <td>2005</td>\n",
       "      <td>G</td>\n",
       "      <td>82 min</td>\n",
       "    </tr>\n",
       "    <tr>\n",
       "      <th>41</th>\n",
       "      <td>Growing Up Wild</td>\n",
       "      <td>G</td>\n",
       "      <td>2016</td>\n",
       "      <td>80.0</td>\n",
       "      <td>growing up wild</td>\n",
       "      <td>Movie</td>\n",
       "      <td>Growing Up Wild</td>\n",
       "      <td>Keith Scholey</td>\n",
       "      <td>2016</td>\n",
       "      <td>G</td>\n",
       "      <td>78 min</td>\n",
       "    </tr>\n",
       "    <tr>\n",
       "      <th>45</th>\n",
       "      <td>Tarzan</td>\n",
       "      <td>G</td>\n",
       "      <td>1999</td>\n",
       "      <td>95.0</td>\n",
       "      <td>tarzan</td>\n",
       "      <td>Movie</td>\n",
       "      <td>Tarzan</td>\n",
       "      <td>Chris Buck, Kevin Lima</td>\n",
       "      <td>1999</td>\n",
       "      <td>G</td>\n",
       "      <td>89 min</td>\n",
       "    </tr>\n",
       "    <tr>\n",
       "      <th>50</th>\n",
       "      <td>Bee Movie</td>\n",
       "      <td>PG</td>\n",
       "      <td>2007</td>\n",
       "      <td>94.0</td>\n",
       "      <td>bee movie</td>\n",
       "      <td>Movie</td>\n",
       "      <td>Bee Movie</td>\n",
       "      <td>Steve Hickner, Simon J. Smith</td>\n",
       "      <td>2007</td>\n",
       "      <td>PG</td>\n",
       "      <td>92 min</td>\n",
       "    </tr>\n",
       "    <tr>\n",
       "      <th>53</th>\n",
       "      <td>Spy Kids 3: Game Over</td>\n",
       "      <td>PG</td>\n",
       "      <td>2003</td>\n",
       "      <td>64.0</td>\n",
       "      <td>spy kids 3 game over</td>\n",
       "      <td>Movie</td>\n",
       "      <td>Spy Kids 3: Game Over</td>\n",
       "      <td>Robert Rodriguez</td>\n",
       "      <td>2003</td>\n",
       "      <td>PG</td>\n",
       "      <td>83 min</td>\n",
       "    </tr>\n",
       "    <tr>\n",
       "      <th>54</th>\n",
       "      <td>The Little Prince</td>\n",
       "      <td>PG</td>\n",
       "      <td>2015</td>\n",
       "      <td>71.0</td>\n",
       "      <td>the little prince</td>\n",
       "      <td>Movie</td>\n",
       "      <td>The Little Prince</td>\n",
       "      <td>Mark Osborne</td>\n",
       "      <td>2015</td>\n",
       "      <td>PG</td>\n",
       "      <td>107 min</td>\n",
       "    </tr>\n",
       "    <tr>\n",
       "      <th>55</th>\n",
       "      <td>Walt Disney Animation Studios Short Films Coll...</td>\n",
       "      <td>TV-G</td>\n",
       "      <td>2015</td>\n",
       "      <td>84.0</td>\n",
       "      <td>walt disney animation studios short films coll...</td>\n",
       "      <td>Movie</td>\n",
       "      <td>Walt Disney Animation Studios Short Films Coll...</td>\n",
       "      <td>Chris Buck, Jennifer Lee, Patrick Osborne, Lau...</td>\n",
       "      <td>2015</td>\n",
       "      <td>TV-Y</td>\n",
       "      <td>90 min</td>\n",
       "    </tr>\n",
       "    <tr>\n",
       "      <th>58</th>\n",
       "      <td>An American Tail</td>\n",
       "      <td>G</td>\n",
       "      <td>1986</td>\n",
       "      <td>67.0</td>\n",
       "      <td>an american tail</td>\n",
       "      <td>Movie</td>\n",
       "      <td>An American Tail</td>\n",
       "      <td>Don Bluth</td>\n",
       "      <td>1986</td>\n",
       "      <td>G</td>\n",
       "      <td>80 min</td>\n",
       "    </tr>\n",
       "    <tr>\n",
       "      <th>62</th>\n",
       "      <td>Balto</td>\n",
       "      <td>G</td>\n",
       "      <td>1995</td>\n",
       "      <td>64.0</td>\n",
       "      <td>balto</td>\n",
       "      <td>Movie</td>\n",
       "      <td>Balto</td>\n",
       "      <td>Simon Wells</td>\n",
       "      <td>1995</td>\n",
       "      <td>G</td>\n",
       "      <td>78 min</td>\n",
       "    </tr>\n",
       "    <tr>\n",
       "      <th>67</th>\n",
       "      <td>The Pirate Fairy</td>\n",
       "      <td>G</td>\n",
       "      <td>2014</td>\n",
       "      <td>57.0</td>\n",
       "      <td>the pirate fairy</td>\n",
       "      <td>Movie</td>\n",
       "      <td>The Pirate Fairy</td>\n",
       "      <td>Peggy Holmes</td>\n",
       "      <td>2014</td>\n",
       "      <td>G</td>\n",
       "      <td>78 min</td>\n",
       "    </tr>\n",
       "  </tbody>\n",
       "</table>\n",
       "</div>"
      ],
      "text/plain": [
       "                                              title_x rating_x  release year  \\\n",
       "0                                        Supernatural    TV-14          2016   \n",
       "3                                          Death Note    TV-14          2006   \n",
       "4                                              Naruto    TV-PG          2008   \n",
       "5                                               Arrow    TV-14          2015   \n",
       "7                                           The Flash    TV-PG          2016   \n",
       "9                                         The Do-Over    TV-MA          2016   \n",
       "10                                        Sand Castle    TV-MA          2017   \n",
       "12                                       Sandy Wexler    TV-14          2017   \n",
       "16                              Kevin Hart: What Now?        R          2016   \n",
       "17                      The Great British Baking Show    TV-PG          2016   \n",
       "21                                     Dave Chappelle    TV-MA          2017   \n",
       "24                                       Little Boxes    TV-14          2016   \n",
       "25                                       The Waterboy    PG-13          1998   \n",
       "27                                             Grease       PG          1978   \n",
       "29                                           Coraline       PG          2009   \n",
       "33                                               Blow        R          2001   \n",
       "34                                             Gotham    TV-14          2016   \n",
       "35                                          Limitless    TV-14          2016   \n",
       "37                                     Chicken Little        G          2005   \n",
       "41                                    Growing Up Wild        G          2016   \n",
       "45                                             Tarzan        G          1999   \n",
       "50                                          Bee Movie       PG          2007   \n",
       "53                              Spy Kids 3: Game Over       PG          2003   \n",
       "54                                  The Little Prince       PG          2015   \n",
       "55  Walt Disney Animation Studios Short Films Coll...     TV-G          2015   \n",
       "58                                   An American Tail        G          1986   \n",
       "62                                              Balto        G          1995   \n",
       "67                                   The Pirate Fairy        G          2014   \n",
       "\n",
       "    user rating score                                            primkey  \\\n",
       "0                95.0                                       supernatural   \n",
       "3                77.0                                         death note   \n",
       "4                88.0                                             naruto   \n",
       "5                96.0                                              arrow   \n",
       "7                98.0                                          the flash   \n",
       "9                84.0                                        the do over   \n",
       "10               89.0                                        sand castle   \n",
       "12               92.0                                       sandy wexler   \n",
       "16               97.0                                kevin hart what now   \n",
       "17               94.0                      the great british baking show   \n",
       "21               94.0                                     dave chappelle   \n",
       "24               61.0                                       little boxes   \n",
       "25               82.0                                       the waterboy   \n",
       "27               86.0                                             grease   \n",
       "29               95.0                                           coraline   \n",
       "33               78.0                                               blow   \n",
       "34               85.0                                             gotham   \n",
       "35               84.0                                          limitless   \n",
       "37               92.0                                     chicken little   \n",
       "41               80.0                                    growing up wild   \n",
       "45               95.0                                             tarzan   \n",
       "50               94.0                                          bee movie   \n",
       "53               64.0                               spy kids 3 game over   \n",
       "54               71.0                                  the little prince   \n",
       "55               84.0  walt disney animation studios short films coll...   \n",
       "58               67.0                                   an american tail   \n",
       "62               64.0                                              balto   \n",
       "67               57.0                                   the pirate fairy   \n",
       "\n",
       "       type                                            title_y  \\\n",
       "0   TV Show                                       Supernatural   \n",
       "3     Movie                                         Death Note   \n",
       "4   TV Show                                             Naruto   \n",
       "5   TV Show                                              Arrow   \n",
       "7   TV Show                                          The Flash   \n",
       "9     Movie                                        The Do-Over   \n",
       "10    Movie                                        Sand Castle   \n",
       "12    Movie                                       Sandy Wexler   \n",
       "16    Movie                              Kevin Hart: What Now?   \n",
       "17  TV Show                      The Great British Baking Show   \n",
       "21  TV Show                                     Dave Chappelle   \n",
       "24    Movie                                       Little Boxes   \n",
       "25    Movie                                       The Waterboy   \n",
       "27    Movie                                             Grease   \n",
       "29    Movie                                           Coraline   \n",
       "33    Movie                                               Blow   \n",
       "34  TV Show                                             Gotham   \n",
       "35    Movie                                          Limitless   \n",
       "37    Movie                                     Chicken Little   \n",
       "41    Movie                                    Growing Up Wild   \n",
       "45    Movie                                             Tarzan   \n",
       "50    Movie                                          Bee Movie   \n",
       "53    Movie                              Spy Kids 3: Game Over   \n",
       "54    Movie                                  The Little Prince   \n",
       "55    Movie  Walt Disney Animation Studios Short Films Coll...   \n",
       "58    Movie                                   An American Tail   \n",
       "62    Movie                                              Balto   \n",
       "67    Movie                                   The Pirate Fairy   \n",
       "\n",
       "                                             director  release_year rating_y  \\\n",
       "0                                       Phil Sgriccia          2019    TV-14   \n",
       "3                                        Adam Wingard          2017    TV-MA   \n",
       "4                                         Hayato Date          2006    TV-14   \n",
       "5                                       James Bamford          2019    TV-14   \n",
       "7                                         Glen Winter          2019    TV-14   \n",
       "9                                        Steven Brill          2016    TV-MA   \n",
       "10                                   Fernando Coimbra          2017    TV-MA   \n",
       "12                                       Steven Brill          2017    TV-14   \n",
       "16                                       Leslie Small          2016        R   \n",
       "17                                    Andy Devonshire          2020    TV-14   \n",
       "21                                        Stan Lathan          2017    TV-MA   \n",
       "24                                          Rob Meyer          2016    TV-MA   \n",
       "25                                       Frank Coraci          1998    PG-13   \n",
       "27                                     Randal Kleiser          1978       PG   \n",
       "29                                       Henry Selick          2009       PG   \n",
       "33                                          Ted Demme          2001        R   \n",
       "34                                       Danny Cannon          2019    TV-MA   \n",
       "35                                    Vrinda Samartha          2017    TV-PG   \n",
       "37                                        Mark Dindal          2005        G   \n",
       "41                                      Keith Scholey          2016        G   \n",
       "45                             Chris Buck, Kevin Lima          1999        G   \n",
       "50                      Steve Hickner, Simon J. Smith          2007       PG   \n",
       "53                                   Robert Rodriguez          2003       PG   \n",
       "54                                       Mark Osborne          2015       PG   \n",
       "55  Chris Buck, Jennifer Lee, Patrick Osborne, Lau...          2015     TV-Y   \n",
       "58                                          Don Bluth          1986        G   \n",
       "62                                        Simon Wells          1995        G   \n",
       "67                                       Peggy Holmes          2014        G   \n",
       "\n",
       "      duration  \n",
       "0   15 Seasons  \n",
       "3      100 min  \n",
       "4    9 Seasons  \n",
       "5    8 Seasons  \n",
       "7    6 Seasons  \n",
       "9      109 min  \n",
       "10     113 min  \n",
       "12     131 min  \n",
       "16      96 min  \n",
       "17   8 Seasons  \n",
       "21    1 Season  \n",
       "24      89 min  \n",
       "25      90 min  \n",
       "27     110 min  \n",
       "29     101 min  \n",
       "33     123 min  \n",
       "34   5 Seasons  \n",
       "35      59 min  \n",
       "37      82 min  \n",
       "41      78 min  \n",
       "45      89 min  \n",
       "50      92 min  \n",
       "53      83 min  \n",
       "54     107 min  \n",
       "55      90 min  \n",
       "58      80 min  \n",
       "62      78 min  \n",
       "67      78 min  "
      ]
     },
     "execution_count": 17,
     "metadata": {},
     "output_type": "execute_result"
    }
   ],
   "source": [
    "merged.drop_duplicates()"
   ]
  },
  {
   "cell_type": "markdown",
   "metadata": {},
   "source": [
    "### There are multiple columns with the same type of information, so I will change the names of the columns to make it more uniform, and filter out the duplicate columns"
   ]
  },
  {
   "cell_type": "code",
   "execution_count": 18,
   "metadata": {},
   "outputs": [
    {
     "name": "stdout",
     "output_type": "stream",
     "text": [
      "<class 'pandas.core.frame.DataFrame'>\n",
      "Int64Index: 70 entries, 0 to 69\n",
      "Data columns (total 11 columns):\n",
      " #   Column             Non-Null Count  Dtype  \n",
      "---  ------             --------------  -----  \n",
      " 0   title_x            70 non-null     object \n",
      " 1   rating_x           70 non-null     object \n",
      " 2   release year       70 non-null     int64  \n",
      " 3   user rating score  70 non-null     float64\n",
      " 4   primkey            70 non-null     object \n",
      " 5   type               70 non-null     object \n",
      " 6   title_y            70 non-null     object \n",
      " 7   director           70 non-null     object \n",
      " 8   release_year       70 non-null     int64  \n",
      " 9   rating_y           70 non-null     object \n",
      " 10  duration           70 non-null     object \n",
      "dtypes: float64(1), int64(2), object(8)\n",
      "memory usage: 6.6+ KB\n"
     ]
    }
   ],
   "source": [
    "merged.info()"
   ]
  },
  {
   "cell_type": "code",
   "execution_count": 19,
   "metadata": {},
   "outputs": [],
   "source": [
    "merged = merged.rename(columns={'title_x':'title','rating_x':'rating',})\n",
    "merged = merged[['title','rating','user rating score','type','director','release_year','duration']]"
   ]
  },
  {
   "cell_type": "code",
   "execution_count": 20,
   "metadata": {},
   "outputs": [
    {
     "name": "stdout",
     "output_type": "stream",
     "text": [
      "<class 'pandas.core.frame.DataFrame'>\n",
      "Int64Index: 70 entries, 0 to 69\n",
      "Data columns (total 7 columns):\n",
      " #   Column             Non-Null Count  Dtype  \n",
      "---  ------             --------------  -----  \n",
      " 0   title              70 non-null     object \n",
      " 1   rating             70 non-null     object \n",
      " 2   user rating score  70 non-null     float64\n",
      " 3   type               70 non-null     object \n",
      " 4   director           70 non-null     object \n",
      " 5   release_year       70 non-null     int64  \n",
      " 6   duration           70 non-null     object \n",
      "dtypes: float64(1), int64(1), object(5)\n",
      "memory usage: 4.4+ KB\n"
     ]
    }
   ],
   "source": [
    "merged.info()"
   ]
  },
  {
   "cell_type": "markdown",
   "metadata": {},
   "source": [
    "# Now we are ready to start our analysis of the data"
   ]
  },
  {
   "cell_type": "markdown",
   "metadata": {},
   "source": [
    "## Comparing movie/tv show rating and user rating score"
   ]
  },
  {
   "cell_type": "markdown",
   "metadata": {},
   "source": [
    "### In this section, I have chosen to compare the movie and tv show ratings and the user rating scores to see if there was any difference in ratings and popularity of content on Netflix. I used a group by function on the rating column to eliminate duplicates, then I averaged the user rating score for each rating. Next, I used a bar graph to visualize it so that it is easier to compare the average ratings with one another."
   ]
  },
  {
   "cell_type": "code",
   "execution_count": 21,
   "metadata": {},
   "outputs": [
    {
     "data": {
      "text/plain": [
       "array(['TV-14', 'TV-PG', 'TV-MA', 'R', 'PG-13', 'PG', 'G', 'TV-G'],\n",
       "      dtype=object)"
      ]
     },
     "execution_count": 21,
     "metadata": {},
     "output_type": "execute_result"
    }
   ],
   "source": [
    "merged['rating'].unique()"
   ]
  },
  {
   "cell_type": "code",
   "execution_count": 22,
   "metadata": {},
   "outputs": [
    {
     "data": {
      "image/png": "[encoded data removed]",
      "text/plain": [
       "<Figure size 432x288 with 1 Axes>"
      ]
     },
     "metadata": {
      "needs_background": "light"
     },
     "output_type": "display_data"
    }
   ],
   "source": [
    "plt.title('Comparison Between Average Netflix User Score \\nand Movie/Show Rating')\n",
    "ax = plt.gca()\n",
    "ax.set_xlabel('rating')\n",
    "ax.set_ylim(75,100)\n",
    "merged.groupby('rating').mean()['user rating score'].plot(kind='bar')\n",
    "plt.show()"
   ]
  },
  {
   "cell_type": "markdown",
   "metadata": {},
   "source": [
    "### From this graph we can tell that Movies and TV Shows with TV-MA or TV-PG rating have the highest average score for show ratings. The challenge here, though, is that the 'TV-' prefix is also applied to films as well, so it distorts the data slightly."
   ]
  },
  {
   "cell_type": "markdown",
   "metadata": {},
   "source": [
    "## Finding the Correlation Between User Rating Score and Duration"
   ]
  },
  {
   "cell_type": "markdown",
   "metadata": {},
   "source": [
    "#### For this analysis, I am determining whether or not there is a correlation between the duration of a movie/tv show and its user rating score. If the correlation number is close to 1.0, then that means that duration and user rating scores are positively correlated. The opposite is true for a number close to -1.0. I separated the merged dataframes into separate dataframes with different filters, one for movies and one for tv shows. The reason for this being that movie durations were measured in minutes whereas tv show durations were measured in seasons. By separately calculating the correlation coefficients, I was able to more accurately determines both categories' relationships."
   ]
  },
  {
   "cell_type": "markdown",
   "metadata": {},
   "source": [
    "### Prepping the data where I remove 'min' from Movies and 'Seasons' from TV Shows so that I can convert the 'duration' column into an integer"
   ]
  },
  {
   "cell_type": "code",
   "execution_count": 23,
   "metadata": {},
   "outputs": [],
   "source": [
    "def cleanData(length):\n",
    "    duration = length\n",
    "    exclude = set(('min','Seasons'))\n",
    "    duration = u''.join(ch for ch in duration if ch not in exclude)\n",
    "    duration = duration.replace('min','')\n",
    "    duration = duration.replace('Seasons','')\n",
    "    return duration"
   ]
  },
  {
   "cell_type": "code",
   "execution_count": 24,
   "metadata": {},
   "outputs": [],
   "source": [
    "merged['duration'] = merged.apply(lambda row: cleanData(row['duration']),axis=1)"
   ]
  },
  {
   "cell_type": "markdown",
   "metadata": {},
   "source": [
    "### Converting duration into number format"
   ]
  },
  {
   "cell_type": "code",
   "execution_count": 25,
   "metadata": {},
   "outputs": [],
   "source": [
    "merged['duration'] = pd.to_numeric(merged['duration'], errors='coerce')\n",
    "merged = merged.dropna(subset=['duration'])"
   ]
  },
  {
   "cell_type": "code",
   "execution_count": 26,
   "metadata": {},
   "outputs": [],
   "source": [
    "mergedmovies = merged[merged['type'].str.contains('Movie')]\n",
    "mergedtv = merged[merged['type'].str.contains('TV Show')]"
   ]
  },
  {
   "cell_type": "code",
   "execution_count": 27,
   "metadata": {},
   "outputs": [
    {
     "name": "stdout",
     "output_type": "stream",
     "text": [
      "Movies: \n",
      "0.4287550657603939\n",
      "TV Shows: \n",
      "0.16913536245662328\n"
     ]
    }
   ],
   "source": [
    "column1 = mergedmovies['user rating score']\n",
    "column2 = mergedmovies['duration']\n",
    "column3 = mergedtv['user rating score']\n",
    "column4 = mergedtv['duration']\n",
    "print('Movies: ',column1.corr(column2), 'TV Shows: ',column3.corr(column4),sep='\\n')"
   ]
  },
  {
   "cell_type": "markdown",
   "metadata": {},
   "source": [
    "### Movies has a moderate correlation with duration--the longer the movie, the more likely it will receive a high rating. On the other hand, TV shows and seasons length shows very little correlation with user ratings."
   ]
  },
  {
   "cell_type": "markdown",
   "metadata": {},
   "source": [
    "## Who are the top directors of Netflix movies and tv shows, and how much of their content has been on Netflix in proportion to other top directors?"
   ]
  },
  {
   "cell_type": "markdown",
   "metadata": {},
   "source": [
    "#### For this section I utilized a pie chart to visualize which top directors had the highest proportion of productions on Netflix. By using a pie chart, I am able to easily discern which directors with the highest user rating score was able to direct the most content to be streamed on Netflix."
   ]
  },
  {
   "cell_type": "markdown",
   "metadata": {},
   "source": [
    "### Finding all unique directors"
   ]
  },
  {
   "cell_type": "code",
   "execution_count": 28,
   "metadata": {},
   "outputs": [
    {
     "data": {
      "text/plain": [
       "67"
      ]
     },
     "execution_count": 28,
     "metadata": {},
     "output_type": "execute_result"
    }
   ],
   "source": [
    "merged['director'].count()"
   ]
  },
  {
   "cell_type": "markdown",
   "metadata": {},
   "source": [
    "### Creating a groupby using two aggregations, mean and count, in order to see which directors have the highest average user rating score and to also look at their count as well."
   ]
  },
  {
   "cell_type": "code",
   "execution_count": 29,
   "metadata": {},
   "outputs": [
    {
     "data": {
      "text/html": [
       "<div>\n",
       "<style scoped>\n",
       "    .dataframe tbody tr th:only-of-type {\n",
       "        vertical-align: middle;\n",
       "    }\n",
       "\n",
       "    .dataframe tbody tr th {\n",
       "        vertical-align: top;\n",
       "    }\n",
       "\n",
       "    .dataframe thead tr th {\n",
       "        text-align: left;\n",
       "    }\n",
       "\n",
       "    .dataframe thead tr:last-of-type th {\n",
       "        text-align: right;\n",
       "    }\n",
       "</style>\n",
       "<table border=\"1\" class=\"dataframe\">\n",
       "  <thead>\n",
       "    <tr>\n",
       "      <th></th>\n",
       "      <th colspan=\"2\" halign=\"left\">user rating score</th>\n",
       "    </tr>\n",
       "    <tr>\n",
       "      <th></th>\n",
       "      <th>mean</th>\n",
       "      <th>count</th>\n",
       "    </tr>\n",
       "    <tr>\n",
       "      <th>director</th>\n",
       "      <th></th>\n",
       "      <th></th>\n",
       "    </tr>\n",
       "  </thead>\n",
       "  <tbody>\n",
       "    <tr>\n",
       "      <th>Henry Selick</th>\n",
       "      <td>95.0</td>\n",
       "      <td>4</td>\n",
       "    </tr>\n",
       "    <tr>\n",
       "      <th>Phil Sgriccia</th>\n",
       "      <td>95.0</td>\n",
       "      <td>3</td>\n",
       "    </tr>\n",
       "    <tr>\n",
       "      <th>James Bamford</th>\n",
       "      <td>96.0</td>\n",
       "      <td>2</td>\n",
       "    </tr>\n",
       "    <tr>\n",
       "      <th>Leslie Small</th>\n",
       "      <td>97.0</td>\n",
       "      <td>1</td>\n",
       "    </tr>\n",
       "    <tr>\n",
       "      <th>Glen Winter</th>\n",
       "      <td>98.0</td>\n",
       "      <td>2</td>\n",
       "    </tr>\n",
       "  </tbody>\n",
       "</table>\n",
       "</div>"
      ],
      "text/plain": [
       "              user rating score      \n",
       "                           mean count\n",
       "director                             \n",
       "Henry Selick               95.0     4\n",
       "Phil Sgriccia              95.0     3\n",
       "James Bamford              96.0     2\n",
       "Leslie Small               97.0     1\n",
       "Glen Winter                98.0     2"
      ]
     },
     "execution_count": 29,
     "metadata": {},
     "output_type": "execute_result"
    }
   ],
   "source": [
    "grpby = merged.groupby('director').agg({'user rating score':['mean','count']})\n",
    "grpby = grpby.sort_values(by=('user rating score', 'mean'),ascending=True).tail(n=5)\n",
    "grpby"
   ]
  },
  {
   "cell_type": "code",
   "execution_count": 30,
   "metadata": {},
   "outputs": [
    {
     "data": {
      "image/png": "[encoded data removed]",
      "text/plain": [
       "<Figure size 432x288 with 1 Axes>"
      ]
     },
     "metadata": {},
     "output_type": "display_data"
    }
   ],
   "source": [
    "topdirectors = ['Henry Selick','Phil Sgriccia','James Bamford','Leslie Small','Glen Winter']\n",
    "top5 = merged[merged['director'].isin(topdirectors)]\n",
    "grpby = top5.groupby('director')['director'].count()\n",
    "grpby.plot(kind='pie',autopct='%1.1f%%')\n",
    "plt.title('Proportions of Netflix Content Created By \\nTop 5 Directors With the \\nHighest User Rating Scores')\n",
    "plt.show()"
   ]
  },
  {
   "cell_type": "markdown",
   "metadata": {},
   "source": [
    "### From this chart we can tell that Henry Selick has the highest proportion of productions on Netflix with a dominating 33.3% or 1/3 of the top 5 directors on Netflix"
   ]
  },
  {
   "cell_type": "code",
   "execution_count": null,
   "metadata": {},
   "outputs": [],
   "source": []
  }
 ],
 "metadata": {
  "kernelspec": {
   "display_name": "Python 3",
   "language": "python",
   "name": "python3"
  },
  "language_info": {
   "codemirror_mode": {
    "name": "ipython",
    "version": 3
   },
   "file_extension": ".py",
   "mimetype": "text/x-python",
   "name": "python",
   "nbconvert_exporter": "python",
   "pygments_lexer": "ipython3",
   "version": "3.8.5"
  }
 },
 "nbformat": 4,
 "nbformat_minor": 4
}
